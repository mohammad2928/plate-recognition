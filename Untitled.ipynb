{
 "cells": [
  {
   "cell_type": "code",
   "execution_count": 1,
   "metadata": {},
   "outputs": [],
   "source": [
    "# reading and plate recognition \n",
    "# in this step we suppose images that recieved from camaras saved in a folder\n",
    "\n"
   ]
  },
  {
   "cell_type": "code",
   "execution_count": 1,
   "metadata": {},
   "outputs": [],
   "source": [
    "import cv2\n",
    "import pytesseract\n",
    "    \n"
   ]
  },
  {
   "cell_type": "code",
   "execution_count": 2,
   "metadata": {},
   "outputs": [],
   "source": [
    "\n",
    "img = cv2.imread('data/download.jpg', )\n"
   ]
  },
  {
   "cell_type": "code",
   "execution_count": 3,
   "metadata": {},
   "outputs": [],
   "source": [
    "from PIL import Image\n",
    "img = Image.open('data/2.jpg').convert('LA')\n",
    "img.save('gray.png')"
   ]
  },
  {
   "cell_type": "code",
   "execution_count": null,
   "metadata": {},
   "outputs": [],
   "source": []
  },
  {
   "cell_type": "code",
   "execution_count": 4,
   "metadata": {},
   "outputs": [
    {
     "name": "stdout",
     "output_type": "stream",
     "text": [
      "b' \\n\\n \\n\\x0c'\n"
     ]
    }
   ],
   "source": [
    "pytesseract.pytesseract.tesseract_cmd = r'C:\\Program Files\\Tesseract-OCR\\tesseract.exe'\n",
    "img = cv2.imread('data/download.jpg')\n",
    "text = pytesseract.image_to_string(img, lang='ara')\n",
    "read = text.encode('utf-8')\n",
    "print(read)"
   ]
  },
  {
   "cell_type": "code",
   "execution_count": 48,
   "metadata": {},
   "outputs": [
    {
     "name": "stdout",
     "output_type": "stream",
     "text": [
      "ج-۔ —— ---\n",
      "۷۱۷۶۲ ب ۸۲ ۹\n",
      "‎R‏ ح-\n",
      "\f",
      "\n"
     ]
    }
   ],
   "source": [
    "# img = cv2.imread('read_my_doc_image.jpg')\n",
    "img = cv2.imread('data/4.jpg', )\n",
    "text = pytesseract.image_to_string(\n",
    "    img, config='-l fas-tune-float --oem 1 --psm 6'\n",
    ")\n",
    "print(text)"
   ]
  },
  {
   "cell_type": "code",
   "execution_count": 46,
   "metadata": {},
   "outputs": [
    {
     "name": "stdout",
     "output_type": "stream",
     "text": [
      "\f",
      "\n"
     ]
    }
   ],
   "source": [
    "# img = cv2.imread('read_my_doc_image.jpg')\n",
    "img = cv2.imread('gray.png' )\n",
    "text = pytesseract.image_to_string(\n",
    "    img, config ='-l fas-tune-float --oem 1 --psm 6 -c tessedit_char_whitelist=۱۲۳۴۵۶۷۸۹'\n",
    ")\n",
    "print(text)\n"
   ]
  },
  {
   "cell_type": "code",
   "execution_count": 26,
   "metadata": {},
   "outputs": [
    {
     "name": "stdout",
     "output_type": "stream",
     "text": [
      "Help on function image_to_string in module pytesseract.pytesseract:\n",
      "\n",
      "image_to_string(image, lang=None, config='', nice=0, output_type='string', timeout=0)\n",
      "    Returns the result of a Tesseract OCR run on the provided image to string\n",
      "\n"
     ]
    }
   ],
   "source": []
  },
  {
   "cell_type": "code",
   "execution_count": 52,
   "metadata": {},
   "outputs": [],
   "source": [
    "import cv2\n",
    "camera = cv2.VideoCapture(0)\n",
    "while True:\n",
    "    return_value,image = camera.read()\n",
    "    gray = cv2.cvtColor(image,cv2.COLOR_BGR2GRAY)\n",
    "    cv2.imshow('image',gray)\n",
    "    cv2.imwrite('test.jpg',image)\n",
    "    break\n",
    "camera.release()\n",
    "cv2.destroyAllWindows()"
   ]
  },
  {
   "cell_type": "code",
   "execution_count": 53,
   "metadata": {},
   "outputs": [],
   "source": [
    "from io import BytesIO\n",
    "stream = BytesIO()"
   ]
  },
  {
   "cell_type": "code",
   "execution_count": 56,
   "metadata": {},
   "outputs": [],
   "source": [
    "import serial"
   ]
  },
  {
   "cell_type": "code",
   "execution_count": 57,
   "metadata": {},
   "outputs": [
    {
     "name": "stdout",
     "output_type": "stream",
     "text": [
      "MS-Access Drivers : ['Microsoft Access Driver (*.mdb, *.accdb)', 'Microsoft Access Text Driver (*.txt, *.csv)']\n"
     ]
    }
   ],
   "source": [
    "import pyodbc\n",
    "\n",
    "\n",
    "msa_drivers = [x for x in pyodbc.drivers() if 'ACCESS' in x.upper()]\n",
    "print(f'MS-Access Drivers : {msa_drivers}')"
   ]
  },
  {
   "cell_type": "code",
   "execution_count": null,
   "metadata": {},
   "outputs": [],
   "source": []
  }
 ],
 "metadata": {
  "kernelspec": {
   "display_name": "Python 3",
   "language": "python",
   "name": "python3"
  },
  "language_info": {
   "codemirror_mode": {
    "name": "ipython",
    "version": 3
   },
   "file_extension": ".py",
   "mimetype": "text/x-python",
   "name": "python",
   "nbconvert_exporter": "python",
   "pygments_lexer": "ipython3",
   "version": "3.6.12"
  }
 },
 "nbformat": 4,
 "nbformat_minor": 4
}
